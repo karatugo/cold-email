{
 "cells": [
  {
   "cell_type": "code",
   "execution_count": 1,
   "id": "9c29361c",
   "metadata": {},
   "outputs": [],
   "source": [
    "# Import needed libraries and load API keys from .env file\n",
    "\n",
    "import os\n",
    "from dotenv import load_dotenv,find_dotenv\n",
    "load_dotenv(find_dotenv())\n",
    "\n",
    "from langchain.document_loaders.base import Document\n",
    "from langchain.utilities import ApifyWrapper"
   ]
  },
  {
   "cell_type": "code",
   "execution_count": 3,
   "id": "9067c423",
   "metadata": {},
   "outputs": [],
   "source": [
    "# Instantiate Apify\n",
    "\n",
    "apify = ApifyWrapper()"
   ]
  },
  {
   "cell_type": "code",
   "execution_count": 24,
   "id": "9a86a943",
   "metadata": {},
   "outputs": [],
   "source": [
    "# Define the input for the crawler. \n",
    "# See the \"Input\" section of the Website Content Crawler on \n",
    "# https://console.apify.com/actors for configuration options.\n",
    "\n",
    "crawl_input={\n",
    "    \"htmlTransformer\": \"extractus\",\n",
    "    \"crawlerType\": \"cheerio\",\n",
    "    \"startUrls\": [{\"url\": \"https://www.rand.org/health-care/about.html\"}]\n",
    "}"
   ]
  },
  {
   "cell_type": "code",
   "execution_count": 25,
   "id": "ccf1d076",
   "metadata": {},
   "outputs": [],
   "source": [
    "loader = apify.call_actor(\n",
    "    actor_id='apify/website-content-crawler', \n",
    "    run_input=crawl_input, \n",
    "    dataset_mapping_function=lambda item: Document(\n",
    "        page_content=item['text'] or '',\n",
    "        metadata={'source': item['url']}\n",
    "    )\n",
    ")"
   ]
  },
  {
   "cell_type": "code",
   "execution_count": 26,
   "id": "8aa03219",
   "metadata": {},
   "outputs": [],
   "source": [
    "# Inspect the extracted docs\n",
    "docs = loader.load()"
   ]
  },
  {
   "cell_type": "code",
   "execution_count": 27,
   "id": "07a9a2bd",
   "metadata": {},
   "outputs": [
    {
     "data": {
      "text/plain": [
       "[Document(page_content=\"Skip to section navigation\\nSkip to page content\\nObjective Analysis. Effective Solutions.\\nHealth Care\\nToggle Menu \\nToggle Search \\nSite-wide SearchSearch\\nAbout RAND Health Care\\nRAND researchers Sangeeta Ahluwalia and Sarah MacCarthy participate in a panel for RAND's Summer Associate Program.\\nPhoto by Diane Baldwin\\nContact\\nRANDHealthCare@rand.org \\nRAND Health Care\\n1776 Main Street\\nP.O. Box 2138\\nSanta Monica, CA 90407-2138\\nWho We Are\\nRAND Health Care is a research division of the RAND Corporation, a nonprofit institution that helps improve policy and decisionmaking through research and analysis.\\nOur Mission\\nRAND Health Care promotes healthier societies by improving health care systems in the United States and other countries. We provide health care decisionmakers, practitioners, and the public with actionable, rigorous, objective evidence to support their most complex decisions.\\nOur Capabilities\\nRAND Health Care possesses broad, deep, and longstanding expertise in health policy areas and key methodologies. \\nKey policy areas include: \\nHealth insurance costs and coverage\\nHealth care prices\\nThe opioid epidemic\\nInfectious disease, with a recent focus on the COVID-19 epidemic\\nWomen’s and children’s health\\nMental health care\\nHealth care delivery, including the recent surge in telemedicine\\nThe U.S. caregiving system\\nQuality of care: measurement and improvement\\nAreas of methodological research include quantitative, qualitative, and mixed methods, such as: \\nMicrosimulation modeling\\nData collection and analysis\\nPolicy and program evaluation\\nSurvey and focus group research\\nConducting and evaluating clinical trials\\nSupport Us\\nThe Tomorrow Demands Today campaign supports the research of RAND Health Care\\nOur Clients\\nRAND Health Care helps local, state, and national governments throughout the world identify health system policy challenges, develop and evaluate options to address them, implement needed change, and evaluate their effects. We also conduct research for foundations, nongovernmental organizations, private businesses, professional associations, and community groups. We work collaboratively with clients and research partners to enhance their capabilities and decisionmaking capacity. Support from generous donors allows RAND Health Care to pursue innovative research on issues that reach beyond the boundaries of traditional client funding.\\nFederal Contract Vehicles\\nRAND holds a number of contracts that we use to work with the U.S. Department of Health and Human Services and other U.S. federal government agencies. \\nLearn More About RAND's Government Contract Vehicles \\nOur Staff\\nLeadership\\nResearcher Spotlight\\nPeter S. Hussey\\nVice President and Director, RAND Health Care\\nPeter Hussey is vice president and director of RAND Health Care, a senior policy researcher at the RAND Corporation, and a professor at the Pardee RAND Graduate School. Previously, he directed the RAND Health Services Delivery Systems program. As director of RAND Health Care, he manages one of…\\nPaul Koegel\\nAssociate Director, RAND Health Care\\nPaul Koegel is associate director of RAND Health Care at the RAND Corporation. He contributes to the management of its $60-million research portfolio. Koegel's 35+-year research career as a medical and urban anthropologist has focused on the effects of health care systems on the adaptation of…\\nChristine Eibner\\nPaul O'Neill Alcoa Chair in Policy Analysis\\nChristine Eibner is the Paul O'Neill Alcoa Chair in Policy Analysis; director, Payment, Cost, and Coverage Program; and a senior economist at the RAND Corporation.\\nJeanne S. Ringel\\nDirector, Access and Delivery Program\\nJeanne S. Ringel is director of the Access and Delivery Program, a senior economist at the RAND Corporation, and a professor at the Pardee RAND Graduate School. Ringel has over 20 years of experience leading contract research teams on a range of public health and health care topics. Ringel…\\nCarrie M. Farmer\\nCodirector, RAND Epstein Family Veterans Policy Research Institute\\nCarrie M. Farmer is codirector of the RAND Epstein Family Veterans Policy Research Institute, director of the Health Care Quality Measurement and Improvement Program, and a senior policy researcher at the RAND Corporation. Her areas of research include military and veteran health policy and…\\nOur Experts\\nComplex health care policy questions must be tackled from multiple perspectives. We draw on the expertise of our interdisciplinary teams, who integrate their diverse skills to focus on critical health care policy issues. Our staff includes more than 200 experts from more than a dozen disciplines. We attract the best in their professions—physicians, economists, psychologists, mathematicians, organizational analysts, political scientists, psychometricians, medical sociologists, policy analysts, and statisticians.\\nSee all RAND Health Care Staff \\nRAND Health Care Chairs\\nResearcher Spotlight\\nIan D. Coulter\\nSenior Health Policy Researcher\\nIan Coulter is codirector of the RAND Center for Collaborative Research in Complemntary and Integrative Health, a senior health policy researcher at the RAND Corporation, professor emeritus at UCLA, and research professor at the Southern California University of Health Sciences. He has more than…\\nCheryl L. Damberg\\nDirector, RAND Center of Excellence on Health System Performance\\nCheryl Damberg is director of the RAND Center of Excellence on Health System Performance, distinguished chair in Health Care Payment Policy, and a principal senior economist at the RAND Corporation. Her research explores the impact of strategies to drive cost and quality improvements in health…\\nChristine Eibner\\nPaul O'Neill Alcoa Chair in Policy Analysis\\nChristine Eibner is the Paul O'Neill Alcoa Chair in Policy Analysis; director, Payment, Cost, and Coverage Program; and a senior economist at the RAND Corporation.\\nMarc N. Elliott\\nDistinguished Chair in Statistics\\nMarc N. Elliott is a senior principal researcher at the RAND Corporation and holds its Distinguished Chair in Statistics. His areas of interest include health equity, quality measurement, Medicare, healthcare experiences, survey sampling, experimental design, causal inference, and case-mix…\\nRobert H. Brook\\nAdjunct Physician Policy Researcher\\nRobert H. Brook is an adjunct physician policy researcher at the RAND Corporation and professor emeritus of Medicine and Health Services at UCLA. He previously served for 19 years as vice president and director of RAND Health. He led the Health and Quality Group on the $80M Health Insurance…\\nHelpful Links\\nEmployment and Fellowships\\nConflict of Interest\\nFederal Contract Vehicles\\nStaff \\nContact Us\\nGeneral Inquiries\\nRANDHealthCare@rand.org \\nRAND Health Care\\n1776 Main Street\\nP.O. Box 2138\\nSanta Monica, CA 90407-2138\\nOffice of Media Relations\\nRAND Health Care Experts are available to the media on a wide range of topics.\\n(703) 414-4795 | (310) 451-6913\\nmedia@rand.org \\nGet the Latest Updates\\nStay informed of the latest RAND Health Care news and research.\\nStay Informed\\nRAND Health Care New Publication Alerts\\nEmailSign Up \\nFollow us @RANDHealth \\nEmail\\nPrint\\nShare on Facebook\\nShare on Twitter\\nShare on LinkedIn\", metadata={'source': 'https://www.rand.org/health-care/about.html'})]"
      ]
     },
     "execution_count": 27,
     "metadata": {},
     "output_type": "execute_result"
    }
   ],
   "source": [
    "docs"
   ]
  },
  {
   "cell_type": "code",
   "execution_count": 21,
   "id": "1e163620",
   "metadata": {},
   "outputs": [],
   "source": [
    "# Instantiate GPT-4 and define load_qa chain\n",
    "from langchain.chat_models import ChatOpenAI\n",
    "from langchain.chains.question_answering import load_qa_chain\n",
    "\n",
    "chat = ChatOpenAI()\n",
    "chain = load_qa_chain(chat, chain_type=\"stuff\")"
   ]
  },
  {
   "cell_type": "code",
   "execution_count": 28,
   "id": "acabd61e",
   "metadata": {},
   "outputs": [],
   "source": [
    "# Your main query to the language model - modify to you needs\n",
    "q=\"\"\"\n",
    "Formulate a short 5 line email to RAND Health Care pithcing Arrakis product below. The email should \n",
    "make a reference to RAND's work and give them a compliment.\n",
    "\n",
    "Arrakis\n",
    "The Mission: We builds data and software tools for sales and marketing teams that sell healthcare products, to ensure the latest in healthcare innovation reaches the right providers and patients faster.\n",
    "\n",
    "The Product: We've built a database of the US Healthcare System and help our customers identify the people and organizations most likely to need their services. Now we're also helping them automate highly personalized outreach.\n",
    "\n",
    "The Team: Previously Sam (CEO) co-founded a clinical testing lab which raised $14M+ in VC led by A16z, out of which spun off a COVID testing lab that did 36 million COVID tests. Sav (CTO) scaled an EdTech start-up to $50M in Revenue as the CTO. Founding Engineer Chris was a data engineer at Stripe, and Rayhnuma (Head of Biz Ops) was early at 2 acquired startups.\n",
    "\n",
    "The Traction: We’ve raised $2M+, built an product, and have hundreds of thousands of dollars in revenue.\"\"\""
   ]
  },
  {
   "cell_type": "code",
   "execution_count": 29,
   "id": "63862345",
   "metadata": {},
   "outputs": [
    {
     "name": "stdout",
     "output_type": "stream",
     "text": [
      "Subject: Collaboration Opportunity with Arrakis: Leveraging RAND's Expertise in Healthcare Innovation\n",
      "\n",
      "Dear RAND Health Care Team,\n",
      "\n",
      "I hope this email finds you well. I wanted to reach out to you because I have been following RAND's invaluable work in improving health care systems and decision-making through rigorous research and analysis. Your dedication to promoting healthier societies aligns perfectly with the mission of our company, Arrakis.\n",
      "\n",
      "At Arrakis, we have developed a comprehensive database of the US Healthcare System, enabling our customers to identify the individuals and organizations most likely to benefit from their healthcare products and services. We are also proud to offer automated, highly personalized outreach to streamline the process of reaching the right providers and patients faster.\n",
      "\n",
      "Our team, comprised of industry experts with a track record of success, has raised over $2 million in funding, built a robust product, and generated significant revenue. We believe that by leveraging our expertise and collaborating with RAND Health Care, we can further enhance the impact of our work and contribute to the advancement of healthcare innovation.\n",
      "\n",
      "We would be honored to explore the potential of partnering with RAND Health Care to leverage your deep knowledge and experience in health policy areas and key methodologies. Your insights and guidance would be invaluable in refining our approach and ensuring that our efforts align with the most pressing needs of the healthcare industry.\n",
      "\n",
      "Thank you for your time, and we look forward to the opportunity to discuss this collaboration in more detail.\n",
      "\n",
      "Warm regards,\n",
      "\n",
      "[Your Name]\n",
      "[Your Title/Position]\n",
      "[Your Contact Information]\n"
     ]
    }
   ],
   "source": [
    "# The personalized email or paragraph you can send to Lemlist\n",
    "email = chain.run(input_documents=docs, question=q)\n",
    "print(email)"
   ]
  },
  {
   "cell_type": "code",
   "execution_count": null,
   "id": "e2f4419e",
   "metadata": {},
   "outputs": [],
   "source": []
  }
 ],
 "metadata": {
  "kernelspec": {
   "display_name": "Python 3 (ipykernel)",
   "language": "python",
   "name": "python3"
  },
  "language_info": {
   "codemirror_mode": {
    "name": "ipython",
    "version": 3
   },
   "file_extension": ".py",
   "mimetype": "text/x-python",
   "name": "python",
   "nbconvert_exporter": "python",
   "pygments_lexer": "ipython3",
   "version": "3.11.3"
  }
 },
 "nbformat": 4,
 "nbformat_minor": 5
}
